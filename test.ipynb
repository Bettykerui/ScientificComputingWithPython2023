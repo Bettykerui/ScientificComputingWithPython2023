{
 "cells": [
  {
   "cell_type": "markdown",
   "id": "e301230e-9e40-4145-a96d-b5086bee674f",
   "metadata": {
    "tags": []
   },
   "source": [
    " \n",
    "    "
   ]
  },
  {
   "cell_type": "code",
   "execution_count": 1,
   "id": "4cfec9a6-0d3c-4a87-ab78-0c7e6a042823",
   "metadata": {},
   "outputs": [
    {
     "name": "stdout",
     "output_type": "stream",
     "text": [
      "1, 2, Python, 4, Works, Python, 7, 8, Python, Works, 11, Python, 13, 14, helloworld, 16, 17, Python, 19, Works, Python, 22, 23, Python, Works, 26, Python, 28, 29, helloworld, 31, 32, Python, 34, Works, Python, 37, 38, Python, Works, 41, Python, 43, 44, helloworld, 46, 47, Python, 49, Works, Python, 52, 53, Python, Works, 56, Python, 58, 59, helloworld, 61, 62, Python, 64, Works, Python, 67, 68, Python, Works, 71, Python, 73, 74, helloworld, 76, 77, Python, 79, Works, Python, 82, 83, Python, Works, 86, Python, 88, 89, helloworld, 91, 92, Python, 94, Works, Python, 97, 98, Python, Works, "
     ]
    }
   ],
   "source": [
    "output = []  # Create an empty list to store the output\n",
    "\n",
    "for x in range(1, 101):\n",
    "    if x % 3 == 0 and x % 5 == 0:\n",
    "        output.append(\"helloworld\")\n",
    "    elif x % 3 == 0:\n",
    "        output.append(\"hello\")\n",
    "    elif x % 5 == 0:\n",
    "        output.append(\"world\")\n",
    "    else:\n",
    "        output.append(x)\n",
    "# Convert the list to a tuple\n",
    "output_tuple = tuple(output)\n",
    "\n",
    "# Perform the substitutions in the tuple\n",
    "output_tuple = tuple([\"Python\" if x == \"hello\" else \"Works\" if x == \"world\" else x for x in output_tuple])\n",
    "\n",
    "# Print the modified tuple\n",
    "for output in output_tuple:\n",
    "    print(output, end=', ')"
   ]
  },
  {
   "cell_type": "code",
   "execution_count": 2,
   "id": "da0f9a25",
   "metadata": {},
   "outputs": [
    {
     "name": "stdin",
     "output_type": "stream",
     "text": [
      "enter the value of x:  7\n",
      "enter the value of y:  9\n"
     ]
    },
    {
     "name": "stdout",
     "output_type": "stream",
     "text": [
      "Swapped values: x = 9 y = 7\n"
     ]
    }
   ],
   "source": [
    "#Write a program that swaps the values of two input variables\n",
    "x = input(\"enter the value of x: \")\n",
    "y = input (\"enter the value of y: \")\n",
    "#swapp the values\n",
    "x, y = y, x\n",
    "# Print the swapped values\n",
    "print(\"Swapped values: x =\", x, \"y =\", y)\n"
   ]
  },
  {
   "cell_type": "code",
   "execution_count": 4,
   "id": "3bff01c6-8102-4534-b938-ca2167168f84",
   "metadata": {},
   "outputs": [
    {
     "name": "stdin",
     "output_type": "stream",
     "text": [
      "Enter the value of x1:  3\n",
      "Enter the value of y1:  0\n",
      "Enter the value of x2:  0\n",
      "Enter the value of y2:  4\n"
     ]
    },
    {
     "name": "stdout",
     "output_type": "stream",
     "text": [
      "The Euclidean distance between 5.0\n"
     ]
    }
   ],
   "source": [
    "#Write a program that calculates and prints the euclidean distance\n",
    "import math\n",
    "\n",
    "# u coordinates x1 and y1\n",
    "x1 = float (input (\"Enter the value of x1: \"))\n",
    "y1 = float (input(\"Enter the value of y1: \"))\n",
    "# v coordinates x2 and y2\n",
    "x2 = float(input(\"Enter the value of x2: \"))\n",
    "y2 = float (input(\"Enter the value of y2: \"))\n",
    "\n",
    "\n",
    "# Calculate the squared differences in coordinates\n",
    "dx = x2 - x1\n",
    "dy = y2 - y1\n",
    "\n",
    "# Calculate the squared Euclidean distance\n",
    "squared_distance = dx ** 2 + dy ** 2\n",
    "\n",
    "# Calculate the Euclidean distance by taking the square root\n",
    "distance = math.sqrt(squared_distance)\n",
    "\n",
    "# Print the result\n",
    "print(\"The Euclidean distance between\" , distance)"
   ]
  },
  {
   "cell_type": "code",
   "execution_count": 4,
   "id": "9c6065d6-2a2e-4d68-9dd8-2cfe537ec1ec",
   "metadata": {},
   "outputs": [
    {
     "name": "stdin",
     "output_type": "stream",
     "text": [
      "Enter the value of x1:  3\n",
      "Enter the value of y1:  0\n",
      "Enter the value of x2:  0\n",
      "Enter the value of y2:  4\n"
     ]
    },
    {
     "name": "stdout",
     "output_type": "stream",
     "text": [
      "The Euclidean distance between 5.0\n"
     ]
    }
   ],
   "source": [
    "#Write a program that calculates and prints the euclidean distance\n",
    "import math\n",
    "\n",
    "# u coordinates x1 and y1\n",
    "x1 = float (input (\"Enter the value of x1: \"))\n",
    "y1 = float (input(\"Enter the value of y1: \"))\n",
    "# v coordinates x2 and y2\n",
    "x2 = float(input(\"Enter the value of x2: \"))\n",
    "y2 = float (input(\"Enter the value of y2: \"))\n",
    "\n",
    "\n",
    "# Calculate the squared differences in coordinates\n",
    "dx = x2 - x1\n",
    "dy = y2 - y1\n",
    "\n",
    "# Calculate the squared Euclidean distance\n",
    "squared_distance = dx ** 2 + dy ** 2\n",
    "\n",
    "# Calculate the Euclidean distance by taking the square root\n",
    "distance = math.sqrt(squared_distance)\n",
    "\n",
    "# Print the result\n",
    "print(\"The Euclidean distance between\" , distance)"
   ]
  },
  {
   "cell_type": "code",
   "execution_count": 1,
   "id": "34467623",
   "metadata": {},
   "outputs": [
    {
     "name": "stdout",
     "output_type": "stream",
     "text": [
      "'b': 2 times\n",
      "'u': 4 times\n",
      "'t': 9 times\n",
      "'f': 6 times\n",
      "'o': 7 times\n",
      "'r': 7 times\n",
      "'m': 3 times\n",
      "'l': 7 times\n",
      "'i': 6 times\n",
      "'p': 4 times\n",
      "'e': 10 times\n",
      "'s': 3 times\n",
      "'h': 4 times\n",
      "'n': 5 times\n",
      "'a': 2 times\n",
      "'d': 3 times\n",
      "'v': 1 times\n",
      "'w': 1 times\n"
     ]
    }
   ],
   "source": [
    "#Write a program that calculates the number of times each character occurs in a given string.\n",
    "#Ignore differences in capitalization\n",
    "\n",
    "input_string = \"But for multiples of three print Hello instead of the number and for the multiples of five print World\"\n",
    "\n",
    "# Convert the string to lowercase to ignore case differences\n",
    "input_string = input_string.lower()\n",
    "\n",
    "# Create an empty dictionary to store character counts\n",
    "char_count = {}\n",
    "\n",
    "\n",
    "for char in input_string:\n",
    "    # Check if the character is a letter\n",
    "    if char.isalpha():\n",
    "        # If the character is in the dictionary, increment its count, otherwise initialize it with 1\n",
    "        if char in char_count:\n",
    "            char_count[char] += 1\n",
    "        else:\n",
    "            char_count[char] = 1\n",
    "\n",
    "# Print the character counts\n",
    "for char, count in char_count.items():\n",
    "    print(f\"'{char}': {count} times\")\n"
   ]
  },
  {
   "cell_type": "code",
   "execution_count": 2,
   "id": "673ed5a8",
   "metadata": {},
   "outputs": [
    {
     "name": "stdout",
     "output_type": "stream",
     "text": [
      "58, 74, 96, 64, 10, 24, 19, 33, 86, 99, 18, 47, 88, 55, 54, 8, 79, 81, 57, 37, 1, 9, 95, 90, 98, 39, 16, 82, 92, 41, 30, 94, 5, 72, 87, 75, 53, "
     ]
    }
   ],
   "source": [
    "#Write a program that determines and counts the unique numbers (numbers with only one occurrence) in the list:\n",
    "i_list =[36, 45, 58, 3, 74, 96, 64, 45, 31, 10, 24, 19, 33, 86, 99, 18, 63, 70, 85,\n",
    " 85, 63, 47, 56, 42, 70, 84, 88, 55, 20, 54, 8, 56, 51, 79, 81, 57, 37, 91,\n",
    " 1, 84, 84, 36, 66, 9, 89, 50, 42, 91, 50, 95, 90, 98, 39, 16, 82, 31, 92, 41,\n",
    " 45, 30, 66, 70, 34, 85, 94, 5, 3, 36, 72, 91, 84, 34, 87, 75, 53, 51, 20, 89, 51, 20]\n",
    "#create empty dictionary for storing count values\n",
    "unique_numbers = {}\n",
    "for number in i_list:\n",
    "    unique_numbers[number] = unique_numbers.get(number, 0) + 1\n",
    "\n",
    "for number, count in unique_numbers.items():\n",
    "    if count == 1:\n",
    "        print(number, end=', ')\n"
   ]
  },
  {
   "cell_type": "code",
   "execution_count": 17,
   "id": "f19f4e7f",
   "metadata": {},
   "outputs": [
    {
     "name": "stdin",
     "output_type": "stream",
     "text": [
      "Enter the first variable:  7\n",
      "Enter the second variable:  9.0\n"
     ]
    },
    {
     "name": "stdout",
     "output_type": "stream",
     "text": [
      "Addition: 16.0\n"
     ]
    }
   ],
   "source": [
    "#Write a program that reads from command line two variables, that can be either int, float, or str\n",
    "\n",
    "var1 = input(\"Enter the first variable: \")\n",
    "var2 = input(\"Enter the second variable: \")\n",
    "\n",
    "try:\n",
    "    var1 = int(var1)\n",
    "except ValueError:\n",
    "    try:\n",
    "        var1 = float(var1)\n",
    "    except ValueError:\n",
    "        # If it's not a float, it must be a string\n",
    "        var1 = var1\n",
    "\n",
    "try:\n",
    "    var2 = int(var2)\n",
    "except ValueError:\n",
    "    try:\n",
    "        var2 = float(var2)\n",
    "    except ValueError:\n",
    "        # If it's not a float, it must be a string\n",
    "        var2 = var2\n",
    "\n",
    "addition = var2 + var1\n",
    "print(\"Addition:\", addition)\n",
    "\n",
    "        \n"
   ]
  },
  {
   "cell_type": "code",
   "execution_count": 7,
   "id": "4713588b",
   "metadata": {},
   "outputs": [
    {
     "name": "stdout",
     "output_type": "stream",
     "text": [
      "[0, 1, 8, 27, 64, 125, 216, 343, 512, 729, 1000]\n"
     ]
    }
   ],
   "source": [
    "#Create a list of the cubes of x for x in [0, 10] using\n",
    "cubes_numbers = [x**3 for x in range(11)]\n",
    "print(cubes_numbers)"
   ]
  },
  {
   "cell_type": "code",
   "execution_count": 2,
   "id": "30ffa5c2",
   "metadata": {},
   "outputs": [
    {
     "name": "stdout",
     "output_type": "stream",
     "text": [
      "[(0, 0), (0, 1), (0, 2), (0, 3), (1, 0), (1, 1), (1, 2), (1, 3), (2, 0), (2, 1), (2, 2), (2, 3)]\n"
     ]
    }
   ],
   "source": [
    "#Write, using the list comprehension, a single-line expression that gets the same result as the code in the cell below.\n",
    "a = [(i, j) for i in range(3) for j in range(4)]\n",
    "print(a)"
   ]
  },
  {
   "cell_type": "markdown",
   "id": "113ff68e",
   "metadata": {},
   "source": [
    "A Pythagorean triple is an integer solution to the Pythagorean theorem  𝑎2+𝑏2=𝑐2\n",
    " . The first Pythagorean triple is (3, 4, 5).\n",
    "\n",
    "Find and put in a tuple all unique Pythagorean triples for the positive integers  𝑎,  𝑏 and  𝑐 with  𝑐<100\n",
    " "
   ]
  },
  {
   "cell_type": "code",
   "execution_count": 46,
   "id": "61978fea-e7f9-4cce-822a-7f8a5af9430c",
   "metadata": {},
   "outputs": [
    {
     "name": "stdout",
     "output_type": "stream",
     "text": [
      "(3, 4, 5)\n",
      "(5, 12, 13)\n",
      "(6, 8, 10)\n",
      "(7, 24, 25)\n",
      "(8, 15, 17)\n",
      "(9, 12, 15)\n",
      "(9, 40, 41)\n",
      "(10, 24, 26)\n",
      "(11, 60, 61)\n",
      "(12, 16, 20)\n",
      "(12, 35, 37)\n",
      "(13, 84, 85)\n",
      "(14, 48, 50)\n",
      "(15, 20, 25)\n",
      "(15, 36, 39)\n",
      "(16, 30, 34)\n",
      "(16, 63, 65)\n",
      "(18, 24, 30)\n",
      "(18, 80, 82)\n",
      "(20, 21, 29)\n",
      "(20, 48, 52)\n",
      "(21, 28, 35)\n",
      "(21, 72, 75)\n",
      "(24, 32, 40)\n",
      "(24, 45, 51)\n",
      "(24, 70, 74)\n",
      "(25, 60, 65)\n",
      "(27, 36, 45)\n",
      "(28, 45, 53)\n",
      "(30, 40, 50)\n",
      "(30, 72, 78)\n",
      "(32, 60, 68)\n",
      "(33, 44, 55)\n",
      "(33, 56, 65)\n",
      "(35, 84, 91)\n",
      "(36, 48, 60)\n",
      "(36, 77, 85)\n",
      "(39, 52, 65)\n",
      "(39, 80, 89)\n",
      "(40, 42, 58)\n",
      "(40, 75, 85)\n",
      "(42, 56, 70)\n",
      "(45, 60, 75)\n",
      "(48, 55, 73)\n",
      "(48, 64, 80)\n",
      "(51, 68, 85)\n",
      "(54, 72, 90)\n",
      "(57, 76, 95)\n",
      "(60, 63, 87)\n",
      "(65, 72, 97)\n"
     ]
    }
   ],
   "source": [
    "# Using a list comprehension to generate unique Pythagorean triples\n",
    "pythagorean_triples = [(a, b, int((a**2 + b**2)**0.5)) \n",
    "                       for a in range(1, 100)\n",
    "                       for b in range(a, 100) \n",
    "                \n",
    "                       if ((a**2 + b**2)**0.5).is_integer() and (a**2 + b**2)**0.5 < 100]\n",
    "\n",
    "# Sort the list for readability\n",
    "pythagorean_triples.sort()\n",
    "\n",
    "# Convert to a tuple\n",
    "unique_triples_tuple = tuple(pythagorean_triples)\n",
    "\n",
    "# Print the unique Pythagorean triples\n",
    "for triple in unique_triples_tuple:\n",
    "    print(triple)\n"
   ]
  },
  {
   "cell_type": "code",
   "execution_count": 18,
   "id": "8ed09ba2-26c9-4e04-8698-57b5b8918f95",
   "metadata": {},
   "outputs": [
    {
     "name": "stdout",
     "output_type": "stream",
     "text": [
      "Input Vector: (3, 4, 5)\n",
      "Normalized Vector: (0.4242640687119285, 0.565685424949238, 0.7071067811865475)\n"
     ]
    }
   ],
   "source": [
    "#Write a program that takes an N-dimensional vector,e.g. a variable-length tuple of numbers, \n",
    "#and normalizes it to one (in such a way that the squared sum of all the entries is equal to 1)\n",
    "\n",
    "import math\n",
    "\n",
    "# Input: N-dimensional vector as a variable-length tuple\n",
    "input_vector = (3, 4, 5)\n",
    "\n",
    "# Calculate the squared sum of entries\n",
    "squared_sum = sum(x ** 2 for x in input_vector)\n",
    "\n",
    "# Check if the squared sum is already 0\n",
    "if squared_sum == 0:\n",
    "    normalized_vector = input_vector  # Already normalized or all entries are 0\n",
    "else:\n",
    "    # Calculate the magnitude\n",
    "    magnitude = math.sqrt(squared_sum)\n",
    "\n",
    "    # Normalize the vector by dividing each component by the magnitude\n",
    "    normalized_vector = tuple(x / magnitude for x in input_vector)\n",
    "\n",
    "# Print the input vector and the normalized vector\n",
    "print(\"Input Vector:\", input_vector)\n",
    "print(\"Normalized Vector:\", normalized_vector)\n"
   ]
  },
  {
   "cell_type": "markdown",
   "id": "90d94a12-7d74-4f36-89cc-451b575e4f9c",
   "metadata": {},
   "source": [
    "The Fibonacci sequence\n",
    "\n",
    "Calculate the first 20 numbers of the Fibonacci sequence using only for or while loops."
   ]
  },
  {
   "cell_type": "code",
   "execution_count": 2,
   "id": "8e1abd8b-6c0b-4c97-a3a5-25ebeab54cff",
   "metadata": {},
   "outputs": [
    {
     "name": "stdout",
     "output_type": "stream",
     "text": [
      "[0, 1, 1, 2, 3, 5, 8, 13, 21, 34, 55, 89, 144, 233, 377, 610, 987, 1597, 2584, 4181]\n"
     ]
    }
   ],
   "source": [
    "#Calculate the first 20 numbers of the Fibonacci sequence using only for or while loops.\n",
    "\n",
    "Calculate the first 20 numbers of the Fibonacci sequence using only for or while loops\n",
    "fib_sequence = [0, 1]\n",
    "for x in range(2, 20):\n",
    "    next_number = fib_sequence[x - 1] + fib_sequence[x - 2]\n",
    "    fib_sequence.append(next_number)\n",
    "\n",
    "# Print the result\n",
    "print(fib_sequence)"
   ]
  },
  {
   "cell_type": "code",
   "execution_count": null,
   "id": "1c81ca73-ab29-4a1a-8758-b0de57f72245",
   "metadata": {},
   "outputs": [],
   "source": []
  }
 ],
 "metadata": {
  "kernelspec": {
   "display_name": "Python 3 (ipykernel)",
   "language": "python",
   "name": "python3"
  },
  "language_info": {
   "codemirror_mode": {
    "name": "ipython",
    "version": 3
   },
   "file_extension": ".py",
   "mimetype": "text/x-python",
   "name": "python",
   "nbconvert_exporter": "python",
   "pygments_lexer": "ipython3",
   "version": "3.9.13"
  },
  "toc-autonumbering": true
 },
 "nbformat": 4,
 "nbformat_minor": 5
}
