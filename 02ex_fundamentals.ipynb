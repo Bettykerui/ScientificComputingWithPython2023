{
 "cells": [
  {
   "cell_type": "markdown",
   "metadata": {},
   "source": [
    "You can solve these exercises in the room or at home. For this week, and the next 3 weeks, exercises have to be solved by creating a single dedicated `.py` file called `02ex_fundamentals.py`.\n",
    "\n",
    "You can divide the individual exercises in the source code with appropriate comments (`#`).\n",
    "\n",
    "The exercises need to run without errors with `python3 02ex_fundamentals.py`."
   ]
  },
  {
   "cell_type": "markdown",
   "metadata": {},
   "source": [
    "1\\. **Global variables**\n",
    "\n",
    "Convert the function $f$ into a function that doesn't use global variables and that does not modify the original list"
   ]
  },
  {
   "cell_type": "code",
   "execution_count": 1,
   "metadata": {},
   "outputs": [
    {
     "name": "stdout",
     "output_type": "stream",
     "text": [
      "[1, 2, 3, 0, 1, 2, 3, 4]\n",
      "[1, 2, 3, 0, 1, 2, 3, 4]\n"
     ]
    }
   ],
   "source": [
    "x = 5\n",
    "\n",
    "def f(alist):\n",
    "    for i in range(x):\n",
    "        alist.append(i)\n",
    "    return alist\n",
    "\n",
    "alist = [1, 2, 3]\n",
    "ans = f(alist)\n",
    "print(ans)\n",
    "print(alist) # alist has been changed"
   ]
  },
  {
   "cell_type": "code",
   "execution_count": null,
   "metadata": {},
   "outputs": [],
   "source": []
  },
  {
   "cell_type": "markdown",
   "metadata": {},
   "source": [
    "2\\. **List comprehension**\n",
    "\n",
    "Write the following expression using a list comprehension:\n",
    "\n",
    "`ans = list(map(lambda x: x * x, filter(lambda x: x % 2 == 1, range(10))))`"
   ]
  },
  {
   "cell_type": "code",
   "execution_count": 5,
   "metadata": {},
   "outputs": [
    {
     "name": "stdout",
     "output_type": "stream",
     "text": [
      "[1, 9, 25, 49, 81]\n"
     ]
    }
   ],
   "source": [
    "ans=[x * x for x in range(10) if x % 2 == 1]\n",
    "print (ans)"
   ]
  },
  {
   "cell_type": "markdown",
   "metadata": {},
   "source": [
    "3\\. **Filter list**\n",
    "\n",
    "Using the `filter()` hof, define a function that takes a list of words and an integer `n` as arguments, and returns a list of words that are shorter than `n`."
   ]
  },
  {
   "cell_type": "code",
   "execution_count": 11,
   "metadata": {},
   "outputs": [
    {
     "name": "stdout",
     "output_type": "stream",
     "text": [
      "['Nai', 'Nyeri']\n"
     ]
    }
   ],
   "source": [
    "def filter_shortwords(word_list, n):\n",
    "    \n",
    "    short_words = filter(lambda word: len(word) < n, word_list)\n",
    "    return list(short_words)  \n",
    "# Example \n",
    "words = [\"Nai\", \"Bungoma\", \"Nyeri\", \"Mombasa\", \"Baringo\"]\n",
    "n = 6\n",
    "short_words = filter_short_words(words, n)\n",
    "print(short_words)\n",
    "\n"
   ]
  },
  {
   "cell_type": "markdown",
   "metadata": {},
   "source": [
    "4\\. **Map dictionary**\n",
    "\n",
    "\n",
    "Consider the following dictionary:\n",
    "\n",
    "`lang = {\"Python\" : 3, \"Java\" : '', \"Cplusplus\" : 'test', \"Php\" : 0.7}`\n",
    "\n",
    "Write a function that takes the above dictionary and uses the `map()` higher order function to return a list that contains the length of the keys of the dictionary."
   ]
  },
  {
   "cell_type": "code",
   "execution_count": 13,
   "metadata": {},
   "outputs": [
    {
     "name": "stdout",
     "output_type": "stream",
     "text": [
      "[6, 4, 9, 3]\n"
     ]
    }
   ],
   "source": [
    "def get_key_lengths(lang):\n",
    "    key_lengths = list(map(len, lang.keys()))\n",
    "    return key_lengths\n",
    "\n",
    "lang = {\"Python\": 3, \"Java\": '', \"Cplusplus\": 'test', \"Php\": 0.7}\n",
    "\n",
    "key_lengths = get_key_lengths(lang)\n",
    "print(key_lengths)\n"
   ]
  },
  {
   "cell_type": "markdown",
   "metadata": {},
   "source": [
    "5\\. **Lambda functions**\n",
    "\n",
    "Write a Python program that sorts the following list of tuples using a lambda function, according to the alphabetical order of the first element of the tuple:\n",
    "\n",
    "`language_scores = [('Python', 97), ('Cplusplus', 81), ('Php', 45), ('Java', 32)]`\n",
    "\n",
    "*Hint*: use the method `sort()` and its argument `key` of the `list` data structure."
   ]
  },
  {
   "cell_type": "code",
   "execution_count": 19,
   "metadata": {},
   "outputs": [
    {
     "name": "stdout",
     "output_type": "stream",
     "text": [
      "Cplusplus: 81\n",
      "Java: 32\n",
      "Php: 45\n",
      "Python: 97\n"
     ]
    }
   ],
   "source": [
    "language_scores = [('Python', 97), ('Cplusplus', 81), ('Php', 45), ('Java', 32)]\n",
    "\n",
    "# Sort the list of tuples base the language name\n",
    "language_scores.sort(key=lambda x: x[0])\n",
    "\n",
    "# Print the sorted list\n",
    "for language, score in language_scores:\n",
    "    print(f'{language}: {score}')\n"
   ]
  },
  {
   "cell_type": "markdown",
   "metadata": {},
   "source": [
    "6\\. **Nested functions**\n",
    "\n",
    "Write two functions: one that returns the square of a number, and one that returns its cube.\n",
    "\n",
    "Then, write a third function that returns the number raised to the 6th power, using only the two previous functions."
   ]
  },
  {
   "cell_type": "code",
   "execution_count": 25,
   "metadata": {},
   "outputs": [
    {
     "name": "stdout",
     "output_type": "stream",
     "text": [
      "Square: 9\n",
      "Cube: 27\n",
      "6th Power: 729\n"
     ]
    }
   ],
   "source": [
    "def square(x):\n",
    "   return x**2\n",
    "def cube(x):\n",
    "    return x**3\n",
    "def sixth_power(x):\n",
    "    return square(cube(x))\n",
    "\n",
    "# Example usage\n",
    "x = 3\n",
    "square_result = square(x)\n",
    "cube_result = cube(x)\n",
    "sixth_power_result = sixth_power(x)\n",
    "\n",
    "print(f\"Square: {square_result}\")\n",
    "print(f\"Cube: {cube_result}\")\n",
    "print(f\"6th Power: {sixth_power_result}\")"
   ]
  },
  {
   "cell_type": "markdown",
   "metadata": {},
   "source": [
    "7\\. **Decorators**\n",
    "\n",
    "Write a decorator named `hello` that makes every wrapped function print “Hello World!” each time the function is called.\n",
    "\n",
    "The wrapped function should look like:\n",
    "\n",
    "```python\n",
    "@hello\n",
    "def square(x):\n",
    "    return x*x\n",
    "```"
   ]
  },
  {
   "cell_type": "code",
   "execution_count": 26,
   "metadata": {},
   "outputs": [
    {
     "name": "stdout",
     "output_type": "stream",
     "text": [
      "Hello World!\n",
      "25\n"
     ]
    }
   ],
   "source": [
    "def hello(func):\n",
    "    def wrapper(*args, **kwargs):\n",
    "        print(\"Hello World!\")\n",
    "        result = func(*args, **kwargs)\n",
    "        return result\n",
    "    return wrapper\n",
    "\n",
    "@hello\n",
    "def square(x):\n",
    "    return x * x\n",
    "\n",
    "result = square(5)\n",
    "print(result)\n"
   ]
  },
  {
   "cell_type": "markdown",
   "metadata": {},
   "source": [
    "8\\. **The Fibonacci sequence (part 2)**\n",
    "\n",
    "Calculate the first 20 numbers of the [Fibonacci sequence](https://en.wikipedia.org/wiki/Fibonacci_number) using a recursive function."
   ]
  },
  {
   "cell_type": "code",
   "execution_count": 28,
   "metadata": {},
   "outputs": [
    {
     "name": "stdout",
     "output_type": "stream",
     "text": [
      "[0, 1, 1, 2, 3, 5, 8, 13, 21, 34, 55, 89, 144, 233, 377, 610, 987, 1597, 2584, 4181]\n"
     ]
    }
   ],
   "source": [
    "def fibonacci_recursive(num):\n",
    "    if num <= 0:\n",
    "        return []\n",
    "    elif num == 1:\n",
    "        return [0]\n",
    "    elif num == 2:\n",
    "        return [0, 1]\n",
    "    else:\n",
    "        fib_sequence = fibonacci_recursive(num - 1)\n",
    "        fib_sequence.append(fib_sequence[-1] + fib_sequence[-2])\n",
    "        return fib_sequence\n",
    "\n",
    "num = 20\n",
    "fibonacci_sequence = fibonacci_recursive(num)\n",
    "print(fibonacci_sequence)\n",
    " "
   ]
  },
  {
   "cell_type": "markdown",
   "metadata": {},
   "source": [
    "9\\. **The Fibonacci sequence (part 3)**\n",
    "\n",
    "Run both the Fibonacci recursive function from the previous exercise, and the Fibonacci function from 01ex that use only `for` and `while` loops.\n",
    "\n",
    "Measure the execution code of the two functions with `timeit` ([link to the doc](https://docs.python.org/3/library/timeit.html)), for example:\n",
    "\n",
    "`%timeit loopFibonacci(20)`\n",
    "\n",
    "`%timeit recursiveFibonacci(20)`\n",
    "\n",
    "which one is the most efficient implementation? By how much?"
   ]
  },
  {
   "cell_type": "code",
   "execution_count": 32,
   "metadata": {},
   "outputs": [
    {
     "name": "stdout",
     "output_type": "stream",
     "text": [
      "0.013964299998406204\n",
      "0.014595700000427314\n"
     ]
    }
   ],
   "source": [
    "import timeit\n",
    "\n",
    "def fibonacci_recursive(num):\n",
    "    if num <= 0:\n",
    "        return []\n",
    "    elif num == 1:\n",
    "        return [0]\n",
    "    elif num == 2:\n",
    "        return [0, 1]\n",
    "    else:\n",
    "        fib_sequence = fibonacci_recursive(num - 1)\n",
    "        fib_sequence.append(fib_sequence[-1] + fib_sequence[-2])\n",
    "        return fib_sequence\n",
    "\n",
    "num = 20\n",
    "fibonacci_sequence = fibonacci_recursive(num)\n",
    "\n",
    "\n",
    "#Calculate the first 20 numbers of the Fibonacci sequence using only for or while loops\n",
    "fib_sequence = [0, 1]\n",
    "for x in range(2, 20):\n",
    "    next_number = fib_sequence[x - 1] + fib_sequence[x - 2]\n",
    "    fib_sequence.append(next_number)\n",
    "#measure the execution\n",
    "recursive_time = timeit.timeit()\n",
    "loop_time = timeit.timeit()\n",
    "print(recursive_time)\n",
    "print(loop_time)\n",
    "\n",
    "\n",
    "\n"
   ]
  },
  {
   "cell_type": "markdown",
   "metadata": {},
   "source": [
    "10\\. **Class definition**\n",
    "\n",
    "Define a class `polygon`. The constructor has to take a tuple as input that contains the length of each side. The (unordered) input list does not have to have a fixed length, but should contain at least 3 items.\n",
    "\n",
    "- Create appropriate methods to get and set the length of each side\n",
    "\n",
    "- Create a method `perimeter()` that returns the perimeter of the polygon\n",
    "\n",
    "- Create a method `getOrderedSides(increasing = True)` that returns a tuple containing the length of the sides arranged in increasing or decreasing order, depending on the argument of the method\n",
    "\n",
    "Test the class by creating an instance and calling the `perimeter()` and `getOrderedSides(increasing = True)` methods."
   ]
  },
  {
   "cell_type": "code",
   "execution_count": 34,
   "metadata": {},
   "outputs": [
    {
     "name": "stdout",
     "output_type": "stream",
     "text": [
      "Perimeter: 18\n",
      "Ordered Sides (Increasing): (3, 4, 5, 6)\n",
      "Ordered Sides (Decreasing): (6, 5, 4, 3)\n"
     ]
    }
   ],
   "source": [
    "class Polygon:\n",
    "    def __init__(self, sides_lengths):\n",
    "        if len(sides_lengths) < 3:\n",
    "            raise ValueError(\"A polygon must have at least 3 sides.\")\n",
    "        self.sides_lengths = list(sides_lengths)\n",
    "\n",
    "\n",
    "    def perimeter(self):\n",
    "        return sum(self.sides_lengths)\n",
    "\n",
    "    def get_ordered_sides(self, increasing=True):\n",
    "        sorted_sides = sorted(self.sides_lengths)\n",
    "        if not increasing:\n",
    "            sorted_sides = sorted_sides[::-1]\n",
    "        return tuple(sorted_sides)\n",
    "\n",
    "# Testing the Polygon class\n",
    "polygon = Polygon((3, 4, 5, 6))\n",
    "print(\"Perimeter:\", polygon.perimeter())\n",
    "print(\"Ordered Sides (Increasing):\", polygon.get_ordered_sides(increasing=True))\n",
    "print(\"Ordered Sides (Decreasing):\", polygon.get_ordered_sides(increasing=False))\n",
    "\n"
   ]
  },
  {
   "cell_type": "markdown",
   "metadata": {},
   "source": [
    "11\\. **Class inheritance**\n",
    "\n",
    "Define a class `rectangle` that inherits from `polygon`. Modify the constructor, if necessary, to make sure that the input data is consistent with the geometrical properties of a rectangle.\n",
    "\n",
    "- Create a method `area()` that returns the area of the rectangle.\n",
    "\n",
    "Test the `rectangle` class by creating an instance and passing an appropriate input to the constructor."
   ]
  },
  {
   "cell_type": "code",
   "execution_count": 36,
   "metadata": {},
   "outputs": [
    {
     "name": "stdout",
     "output_type": "stream",
     "text": [
      "Perimeter: 18\n",
      "Area: 20\n"
     ]
    }
   ],
   "source": [
    "class Rectangle(Polygon):\n",
    "    def __init__(self, length, width):\n",
    "        # Check if input is valid for a rectangle (positive lengths)\n",
    "        if length <= 0 or width <= 0:\n",
    "            raise ValueError(\"Length and width must be positive for a rectangle.\")\n",
    "        super().__init__((length, width, length, width))  # Pass sides to the parent class constructor\n",
    "\n",
    "    def area(self):\n",
    "        return self.sides_lengths[0] * self.sides_lengths[1]\n",
    "\n",
    "# Testing the Rectangle class\n",
    "rectangle = Rectangle(4, 5)\n",
    "print(\"Perimeter:\", rectangle.perimeter())\n",
    "print(\"Area:\", rectangle.area())\n",
    " "
   ]
  },
  {
   "cell_type": "code",
   "execution_count": null,
   "metadata": {},
   "outputs": [],
   "source": []
  }
 ],
 "metadata": {
  "kernelspec": {
   "display_name": "Python 3 (ipykernel)",
   "language": "python",
   "name": "python3"
  },
  "language_info": {
   "codemirror_mode": {
    "name": "ipython",
    "version": 3
   },
   "file_extension": ".py",
   "mimetype": "text/x-python",
   "name": "python",
   "nbconvert_exporter": "python",
   "pygments_lexer": "ipython3",
   "version": "3.9.13"
  }
 },
 "nbformat": 4,
 "nbformat_minor": 4
}
